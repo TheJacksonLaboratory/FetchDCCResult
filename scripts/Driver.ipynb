{
 "cells": [
  {
   "cell_type": "code",
   "execution_count": 26,
   "id": "134ce115",
   "metadata": {},
   "outputs": [],
   "source": [
    "import configparser\n",
    "import os\n",
    "import json\n",
    "from logging.handlers import RotatingFileHandler\n",
    "\n",
    "import requests\n",
    "from sqlalchemy import create_engine, text\n",
    "import numpy as np\n",
    "import pandas as pd\n",
    "import logging\n",
    "import mysql.connector\n",
    "from mysql.connector import errorcode\n",
    "from sqlalchemy.exc import SQLAlchemyError"
   ]
  },
  {
   "cell_type": "code",
   "execution_count": 27,
   "id": "dc075532",
   "metadata": {},
   "outputs": [],
   "source": [
    "url = \"https://api.mousephenotype.org/media/J?parameterKey=IMPC_EYE_050_001&genotype=JR28308&start=0&resultsize=50\"\n",
    "response = requests.get(url)\n",
    "payload = response.json()"
   ]
  },
  {
   "cell_type": "code",
   "execution_count": 28,
   "id": "2a1931c8",
   "metadata": {},
   "outputs": [
    {
     "data": {
      "text/plain": [
       "{'total': 2,\n",
       " 'success': True,\n",
       " 'mediaFiles': [{'url': 'ftp://bhjlk01.jax.org/images/IMPC_EYE_001/929397_929397_left.tif',\n",
       "   'animalName': 'J49161',\n",
       "   'genotype': 'JR28308',\n",
       "   'strain': 'MGI:3056279',\n",
       "   'parameterKey': 'IMPC_EYE_050_001',\n",
       "   'procedureKey': 'IMPC_EYE_001',\n",
       "   'phase': 'tile',\n",
       "   'status': 'done',\n",
       "   'xmlFileName': 'J.2022-02-28.63.experiment.impc.xml'},\n",
       "  {'url': 'ftp://bhjlk01.jax.org/images/IMPC_EYE_001/929397_929397_right.tif',\n",
       "   'animalName': 'J49161',\n",
       "   'genotype': 'JR28308',\n",
       "   'strain': 'MGI:3056279',\n",
       "   'parameterKey': 'IMPC_EYE_050_001',\n",
       "   'procedureKey': 'IMPC_EYE_001',\n",
       "   'phase': 'tile',\n",
       "   'status': 'done',\n",
       "   'xmlFileName': 'J.2022-02-28.63.experiment.impc.xml'}]}"
      ]
     },
     "execution_count": 28,
     "metadata": {},
     "output_type": "execute_result"
    }
   ],
   "source": [
    "payload"
   ]
  },
  {
   "cell_type": "code",
   "execution_count": 29,
   "id": "ebef303d",
   "metadata": {},
   "outputs": [],
   "source": [
    "dict_ = payload[\"mediaFiles\"][0]"
   ]
  },
  {
   "cell_type": "code",
   "execution_count": 30,
   "id": "a514683f",
   "metadata": {},
   "outputs": [
    {
     "data": {
      "text/plain": [
       "dict"
      ]
     },
     "execution_count": 30,
     "metadata": {},
     "output_type": "execute_result"
    }
   ],
   "source": [
    "type(dict_)"
   ]
  },
  {
   "cell_type": "code",
   "execution_count": 31,
   "id": "42d0cb3b",
   "metadata": {},
   "outputs": [],
   "source": [
    "df = pd.Series(dict_).to_frame()"
   ]
  },
  {
   "cell_type": "code",
   "execution_count": 32,
   "id": "b9b71c1e",
   "metadata": {},
   "outputs": [
    {
     "data": {
      "text/html": [
       "<div>\n",
       "<style scoped>\n",
       "    .dataframe tbody tr th:only-of-type {\n",
       "        vertical-align: middle;\n",
       "    }\n",
       "\n",
       "    .dataframe tbody tr th {\n",
       "        vertical-align: top;\n",
       "    }\n",
       "\n",
       "    .dataframe thead th {\n",
       "        text-align: right;\n",
       "    }\n",
       "</style>\n",
       "<table border=\"1\" class=\"dataframe\">\n",
       "  <thead>\n",
       "    <tr style=\"text-align: right;\">\n",
       "      <th></th>\n",
       "      <th>0</th>\n",
       "    </tr>\n",
       "  </thead>\n",
       "  <tbody>\n",
       "    <tr>\n",
       "      <th>url</th>\n",
       "      <td>ftp://bhjlk01.jax.org/images/IMPC_EYE_001/9293...</td>\n",
       "    </tr>\n",
       "    <tr>\n",
       "      <th>animalName</th>\n",
       "      <td>J49161</td>\n",
       "    </tr>\n",
       "    <tr>\n",
       "      <th>genotype</th>\n",
       "      <td>JR28308</td>\n",
       "    </tr>\n",
       "    <tr>\n",
       "      <th>strain</th>\n",
       "      <td>MGI:3056279</td>\n",
       "    </tr>\n",
       "    <tr>\n",
       "      <th>parameterKey</th>\n",
       "      <td>IMPC_EYE_050_001</td>\n",
       "    </tr>\n",
       "    <tr>\n",
       "      <th>procedureKey</th>\n",
       "      <td>IMPC_EYE_001</td>\n",
       "    </tr>\n",
       "    <tr>\n",
       "      <th>phase</th>\n",
       "      <td>tile</td>\n",
       "    </tr>\n",
       "    <tr>\n",
       "      <th>status</th>\n",
       "      <td>done</td>\n",
       "    </tr>\n",
       "    <tr>\n",
       "      <th>xmlFileName</th>\n",
       "      <td>J.2022-02-28.63.experiment.impc.xml</td>\n",
       "    </tr>\n",
       "  </tbody>\n",
       "</table>\n",
       "</div>"
      ],
      "text/plain": [
       "                                                              0\n",
       "url           ftp://bhjlk01.jax.org/images/IMPC_EYE_001/9293...\n",
       "animalName                                               J49161\n",
       "genotype                                                JR28308\n",
       "strain                                              MGI:3056279\n",
       "parameterKey                                   IMPC_EYE_050_001\n",
       "procedureKey                                       IMPC_EYE_001\n",
       "phase                                                      tile\n",
       "status                                                     done\n",
       "xmlFileName                 J.2022-02-28.63.experiment.impc.xml"
      ]
     },
     "execution_count": 32,
     "metadata": {},
     "output_type": "execute_result"
    }
   ],
   "source": [
    "df"
   ]
  },
  {
   "cell_type": "code",
   "execution_count": 33,
   "id": "38f5ae8b",
   "metadata": {},
   "outputs": [],
   "source": [
    "res = df.transpose()"
   ]
  },
  {
   "cell_type": "code",
   "execution_count": 34,
   "id": "a97c415f",
   "metadata": {},
   "outputs": [
    {
     "data": {
      "text/html": [
       "<div>\n",
       "<style scoped>\n",
       "    .dataframe tbody tr th:only-of-type {\n",
       "        vertical-align: middle;\n",
       "    }\n",
       "\n",
       "    .dataframe tbody tr th {\n",
       "        vertical-align: top;\n",
       "    }\n",
       "\n",
       "    .dataframe thead th {\n",
       "        text-align: right;\n",
       "    }\n",
       "</style>\n",
       "<table border=\"1\" class=\"dataframe\">\n",
       "  <thead>\n",
       "    <tr style=\"text-align: right;\">\n",
       "      <th></th>\n",
       "      <th>url</th>\n",
       "      <th>animalName</th>\n",
       "      <th>genotype</th>\n",
       "      <th>strain</th>\n",
       "      <th>parameterKey</th>\n",
       "      <th>procedureKey</th>\n",
       "      <th>phase</th>\n",
       "      <th>status</th>\n",
       "      <th>xmlFileName</th>\n",
       "    </tr>\n",
       "  </thead>\n",
       "  <tbody>\n",
       "    <tr>\n",
       "      <th>0</th>\n",
       "      <td>ftp://bhjlk01.jax.org/images/IMPC_EYE_001/9293...</td>\n",
       "      <td>J49161</td>\n",
       "      <td>JR28308</td>\n",
       "      <td>MGI:3056279</td>\n",
       "      <td>IMPC_EYE_050_001</td>\n",
       "      <td>IMPC_EYE_001</td>\n",
       "      <td>tile</td>\n",
       "      <td>done</td>\n",
       "      <td>J.2022-02-28.63.experiment.impc.xml</td>\n",
       "    </tr>\n",
       "  </tbody>\n",
       "</table>\n",
       "</div>"
      ],
      "text/plain": [
       "                                                 url animalName genotype  \\\n",
       "0  ftp://bhjlk01.jax.org/images/IMPC_EYE_001/9293...     J49161  JR28308   \n",
       "\n",
       "        strain      parameterKey  procedureKey phase status  \\\n",
       "0  MGI:3056279  IMPC_EYE_050_001  IMPC_EYE_001  tile   done   \n",
       "\n",
       "                           xmlFileName  \n",
       "0  J.2022-02-28.63.experiment.impc.xml  "
      ]
     },
     "execution_count": 34,
     "metadata": {},
     "output_type": "execute_result"
    }
   ],
   "source": [
    "res"
   ]
  },
  {
   "cell_type": "code",
   "execution_count": 35,
   "id": "e1aa8a09",
   "metadata": {},
   "outputs": [],
   "source": [
    "mediaFiles = payload[\"mediaFiles\"]"
   ]
  },
  {
   "cell_type": "code",
   "execution_count": 36,
   "id": "59d2b753",
   "metadata": {},
   "outputs": [],
   "source": [
    "dataset = []"
   ]
  },
  {
   "cell_type": "code",
   "execution_count": 37,
   "id": "e39e2c32",
   "metadata": {},
   "outputs": [],
   "source": [
    "for mf in mediaFiles:\n",
    "    temp = pd.Series(mf).to_frame()\n",
    "    df = temp.transpose()\n",
    "    dataset.append(df)"
   ]
  },
  {
   "cell_type": "code",
   "execution_count": 38,
   "id": "e5a83aef",
   "metadata": {},
   "outputs": [],
   "source": [
    "res = pd.concat(dataset)"
   ]
  },
  {
   "cell_type": "code",
   "execution_count": 39,
   "id": "44898867",
   "metadata": {},
   "outputs": [
    {
     "data": {
      "text/html": [
       "<div>\n",
       "<style scoped>\n",
       "    .dataframe tbody tr th:only-of-type {\n",
       "        vertical-align: middle;\n",
       "    }\n",
       "\n",
       "    .dataframe tbody tr th {\n",
       "        vertical-align: top;\n",
       "    }\n",
       "\n",
       "    .dataframe thead th {\n",
       "        text-align: right;\n",
       "    }\n",
       "</style>\n",
       "<table border=\"1\" class=\"dataframe\">\n",
       "  <thead>\n",
       "    <tr style=\"text-align: right;\">\n",
       "      <th></th>\n",
       "      <th>url</th>\n",
       "      <th>animalName</th>\n",
       "      <th>genotype</th>\n",
       "      <th>strain</th>\n",
       "      <th>parameterKey</th>\n",
       "      <th>procedureKey</th>\n",
       "      <th>phase</th>\n",
       "      <th>status</th>\n",
       "      <th>xmlFileName</th>\n",
       "    </tr>\n",
       "  </thead>\n",
       "  <tbody>\n",
       "    <tr>\n",
       "      <th>0</th>\n",
       "      <td>ftp://bhjlk01.jax.org/images/IMPC_EYE_001/9293...</td>\n",
       "      <td>J49161</td>\n",
       "      <td>JR28308</td>\n",
       "      <td>MGI:3056279</td>\n",
       "      <td>IMPC_EYE_050_001</td>\n",
       "      <td>IMPC_EYE_001</td>\n",
       "      <td>tile</td>\n",
       "      <td>done</td>\n",
       "      <td>J.2022-02-28.63.experiment.impc.xml</td>\n",
       "    </tr>\n",
       "    <tr>\n",
       "      <th>0</th>\n",
       "      <td>ftp://bhjlk01.jax.org/images/IMPC_EYE_001/9293...</td>\n",
       "      <td>J49161</td>\n",
       "      <td>JR28308</td>\n",
       "      <td>MGI:3056279</td>\n",
       "      <td>IMPC_EYE_050_001</td>\n",
       "      <td>IMPC_EYE_001</td>\n",
       "      <td>tile</td>\n",
       "      <td>done</td>\n",
       "      <td>J.2022-02-28.63.experiment.impc.xml</td>\n",
       "    </tr>\n",
       "  </tbody>\n",
       "</table>\n",
       "</div>"
      ],
      "text/plain": [
       "                                                 url animalName genotype  \\\n",
       "0  ftp://bhjlk01.jax.org/images/IMPC_EYE_001/9293...     J49161  JR28308   \n",
       "0  ftp://bhjlk01.jax.org/images/IMPC_EYE_001/9293...     J49161  JR28308   \n",
       "\n",
       "        strain      parameterKey  procedureKey phase status  \\\n",
       "0  MGI:3056279  IMPC_EYE_050_001  IMPC_EYE_001  tile   done   \n",
       "0  MGI:3056279  IMPC_EYE_050_001  IMPC_EYE_001  tile   done   \n",
       "\n",
       "                           xmlFileName  \n",
       "0  J.2022-02-28.63.experiment.impc.xml  \n",
       "0  J.2022-02-28.63.experiment.impc.xml  "
      ]
     },
     "execution_count": 39,
     "metadata": {},
     "output_type": "execute_result"
    }
   ],
   "source": [
    "res"
   ]
  },
  {
   "cell_type": "code",
   "execution_count": 40,
   "id": "68fe12a4",
   "metadata": {},
   "outputs": [],
   "source": [
    "colNames = list(res.columns)"
   ]
  },
  {
   "cell_type": "code",
   "execution_count": 41,
   "id": "4512d851",
   "metadata": {},
   "outputs": [
    {
     "data": {
      "text/plain": [
       "['url',\n",
       " 'animalName',\n",
       " 'genotype',\n",
       " 'strain',\n",
       " 'parameterKey',\n",
       " 'procedureKey',\n",
       " 'phase',\n",
       " 'status',\n",
       " 'xmlFileName']"
      ]
     },
     "execution_count": 41,
     "metadata": {},
     "output_type": "execute_result"
    }
   ],
   "source": [
    "colNames"
   ]
  },
  {
   "cell_type": "code",
   "execution_count": 42,
   "id": "2aa0e9a1",
   "metadata": {},
   "outputs": [],
   "source": [
    "User = \"chent\"\n",
    "password = \"Ql4nc,tzjzsblj\"\n",
    "host = \"localhost\"\n",
    "database = \"KOMP_Training\""
   ]
  },
  {
   "cell_type": "code",
   "execution_count": null,
   "id": "83bb5eda",
   "metadata": {},
   "outputs": [],
   "source": []
  },
  {
   "cell_type": "code",
   "execution_count": 43,
   "id": "5223c5a9",
   "metadata": {},
   "outputs": [],
   "source": [
    "try:\n",
    "    engine = create_engine(\"mysql+mysqlconnector://root:{0}@{1}/{2}\".\n",
    "                            format(password, host, database),\n",
    "                            pool_recycle=1, pool_timeout=57600,\n",
    "                            future=True)\n",
    "    res.to_sql(\"DCCImages\", engine, if_exists='append', index=False)\n",
    "\n",
    "except SQLAlchemyError as e:\n",
    "    error = str(e.__dict__[\"orig\"])\n",
    "    print(error)"
   ]
  },
  {
   "cell_type": "code",
   "execution_count": null,
   "id": "9d25344a",
   "metadata": {},
   "outputs": [],
   "source": []
  }
 ],
 "metadata": {
  "kernelspec": {
   "display_name": "Python 3 (ipykernel)",
   "language": "python",
   "name": "python3"
  },
  "language_info": {
   "codemirror_mode": {
    "name": "ipython",
    "version": 3
   },
   "file_extension": ".py",
   "mimetype": "text/x-python",
   "name": "python",
   "nbconvert_exporter": "python",
   "pygments_lexer": "ipython3",
   "version": "3.9.13"
  }
 },
 "nbformat": 4,
 "nbformat_minor": 5
}
